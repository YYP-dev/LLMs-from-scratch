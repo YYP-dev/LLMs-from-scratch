{
 "cells": [
  {
   "cell_type": "code",
   "id": "initial_id",
   "metadata": {
    "collapsed": true,
    "ExecuteTime": {
     "end_time": "2024-09-15T07:24:17.317684Z",
     "start_time": "2024-09-15T07:24:17.310802Z"
    }
   },
   "source": [
    "import re\n",
    "import pathlib"
   ],
   "outputs": [],
   "execution_count": 1
  },
  {
   "metadata": {
    "ExecuteTime": {
     "end_time": "2024-09-15T07:24:17.321637Z",
     "start_time": "2024-09-15T07:24:17.318686Z"
    }
   },
   "cell_type": "code",
   "source": "file_path = '../ch02/01_main-chapter-code/the-verdict.txt'",
   "id": "660f966286b60c20",
   "outputs": [],
   "execution_count": 2
  },
  {
   "metadata": {
    "ExecuteTime": {
     "end_time": "2024-09-15T07:24:17.331816Z",
     "start_time": "2024-09-15T07:24:17.322640Z"
    }
   },
   "cell_type": "code",
   "source": [
    "with open(file_path, 'r') as f:\n",
    "    raw_text = f.read()"
   ],
   "id": "65e314ac9820f43",
   "outputs": [],
   "execution_count": 3
  },
  {
   "metadata": {
    "ExecuteTime": {
     "end_time": "2024-09-15T07:24:17.338345Z",
     "start_time": "2024-09-15T07:24:17.332818Z"
    }
   },
   "cell_type": "code",
   "source": "raw_text",
   "id": "e60c331db91f9c08",
   "outputs": [
    {
     "data": {
      "text/plain": [
       "'I HAD always thought Jack Gisburn rather a cheap genius--though a good fellow enough--so it was no great surprise to me to hear that, in the height of his glory, he had dropped his painting, married a rich widow, and established himself in a villa on the Riviera. (Though I rather thought it would have been Rome or Florence.)\\n\\n\"The height of his glory\"--that was what the women called it. I can hear Mrs. Gideon Thwing--his last Chicago sitter--deploring his unaccountable abdication. \"Of course it\\'s going to send the value of my picture \\'way up; but I don\\'t think of that, Mr. Rickham--the loss to Arrt is all I think of.\" The word, on Mrs. Thwing\\'s lips, multiplied its _rs_ as though they were reflected in an endless vista of mirrors. And it was not only the Mrs. Thwings who mourned. Had not the exquisite Hermia Croft, at the last Grafton Gallery show, stopped me before Gisburn\\'s \"Moon-dancers\" to say, with tears in her eyes: \"We shall not look upon its like again\"?\\n\\nWell!--even through the prism of Hermia\\'s tears I felt able to face the fact with equanimity. Poor Jack Gisburn! The women had made him--it was fitting that they should mourn him. Among his own sex fewer regrets were heard, and in his own trade hardly a murmur. Professional jealousy? Perhaps. If it were, the honour of the craft was vindicated by little Claude Nutley, who, in all good faith, brought out in the Burlington a very handsome \"obituary\" on Jack--one of those showy articles stocked with random technicalities that I have heard (I won\\'t say by whom) compared to Gisburn\\'s painting. And so--his resolve being apparently irrevocable--the discussion gradually died out, and, as Mrs. Thwing had predicted, the price of \"Gisburns\" went up.\\n\\nIt was not till three years later that, in the course of a few weeks\\' idling on the Riviera, it suddenly occurred to me to wonder why Gisburn had given up his painting. On reflection, it really was a tempting problem. To accuse his wife would have been too easy--his fair sitters had been denied the solace of saying that Mrs. Gisburn had \"dragged him down.\" For Mrs. Gisburn--as such--had not existed till nearly a year after Jack\\'s resolve had been taken. It might be that he had married her--since he liked his ease--because he didn\\'t want to go on painting; but it would have been hard to prove that he had given up his painting because he had married her.\\n\\nOf course, if she had not dragged him down, she had equally, as Miss Croft contended, failed to \"lift him up\"--she had not led him back to the easel. To put the brush into his hand again--what a vocation for a wife! But Mrs. Gisburn appeared to have disdained it--and I felt it might be interesting to find out why.\\n\\nThe desultory life of the Riviera lends itself to such purely academic speculations; and having, on my way to Monte Carlo, caught a glimpse of Jack\\'s balustraded terraces between the pines, I had myself borne thither the next day.\\n\\nI found the couple at tea beneath their palm-trees; and Mrs. Gisburn\\'s welcome was so genial that, in the ensuing weeks, I claimed it frequently. It was not that my hostess was \"interesting\": on that point I could have given Miss Croft the fullest reassurance. It was just because she was _not_ interesting--if I may be pardoned the bull--that I found her so. For Jack, all his life, had been surrounded by interesting women: they had fostered his art, it had been reared in the hot-house of their adulation. And it was therefore instructive to note what effect the \"deadening atmosphere of mediocrity\" (I quote Miss Croft) was having on him.\\n\\nI have mentioned that Mrs. Gisburn was rich; and it was immediately perceptible that her husband was extracting from this circumstance a delicate but substantial satisfaction. It is, as a rule, the people who scorn money who get most out of it; and Jack\\'s elegant disdain of his wife\\'s big balance enabled him, with an appearance of perfect good-breeding, to transmute it into objects of art and luxury. To the latter, I must add, he remained relatively indifferent; but he was buying Renaissance bronzes and eighteenth-century pictures with a discrimination that bespoke the amplest resources.\\n\\n\"Money\\'s only excuse is to put beauty into circulation,\" was one of the axioms he laid down across the Sevres and silver of an exquisitely appointed luncheon-table, when, on a later day, I had again run over from Monte Carlo; and Mrs. Gisburn, beaming on him, added for my enlightenment: \"Jack is so morbidly sensitive to every form of beauty.\"\\n\\nPoor Jack! It had always been his fate to have women say such things of him: the fact should be set down in extenuation. What struck me now was that, for the first time, he resented the tone. I had seen him, so often, basking under similar tributes--was it the conjugal note that robbed them of their savour? No--for, oddly enough, it became apparent that he was fond of Mrs. Gisburn--fond enough not to see her absurdity. It was his own absurdity he seemed to be wincing under--his own attitude as an object for garlands and incense.\\n\\n\"My dear, since I\\'ve chucked painting people don\\'t say that stuff about me--they say it about Victor Grindle,\" was his only protest, as he rose from the table and strolled out onto the sunlit terrace.\\n\\nI glanced after him, struck by his last word. Victor Grindle was, in fact, becoming the man of the moment--as Jack himself, one might put it, had been the man of the hour. The younger artist was said to have formed himself at my friend\\'s feet, and I wondered if a tinge of jealousy underlay the latter\\'s mysterious abdication. But no--for it was not till after that event that the _rose Dubarry_ drawing-rooms had begun to display their \"Grindles.\"\\n\\nI turned to Mrs. Gisburn, who had lingered to give a lump of sugar to her spaniel in the dining-room.\\n\\n\"Why _has_ he chucked painting?\" I asked abruptly.\\n\\nShe raised her eyebrows with a hint of good-humoured surprise.\\n\\n\"Oh, he doesn\\'t _have_ to now, you know; and I want him to enjoy himself,\" she said quite simply.\\n\\nI looked about the spacious white-panelled room, with its _famille-verte_ vases repeating the tones of the pale damask curtains, and its eighteenth-century pastels in delicate faded frames.\\n\\n\"Has he chucked his pictures too? I haven\\'t seen a single one in the house.\"\\n\\nA slight shade of constraint crossed Mrs. Gisburn\\'s open countenance. \"It\\'s his ridiculous modesty, you know. He says they\\'re not fit to have about; he\\'s sent them all away except one--my portrait--and that I have to keep upstairs.\"\\n\\nHis ridiculous modesty--Jack\\'s modesty about his pictures? My curiosity was growing like the bean-stalk. I said persuasively to my hostess: \"I must really see your portrait, you know.\"\\n\\nShe glanced out almost timorously at the terrace where her husband, lounging in a hooded chair, had lit a cigar and drawn the Russian deerhound\\'s head between his knees.\\n\\n\"Well, come while he\\'s not looking,\" she said, with a laugh that tried to hide her nervousness; and I followed her between the marble Emperors of the hall, and up the wide stairs with terra-cotta nymphs poised among flowers at each landing.\\n\\nIn the dimmest corner of her boudoir, amid a profusion of delicate and distinguished objects, hung one of the familiar oval canvases, in the inevitable garlanded frame. The mere outline of the frame called up all Gisburn\\'s past!\\n\\nMrs. Gisburn drew back the window-curtains, moved aside a _jardiniere_ full of pink azaleas, pushed an arm-chair away, and said: \"If you stand here you can just manage to see it. I had it over the mantel-piece, but he wouldn\\'t let it stay.\"\\n\\nYes--I could just manage to see it--the first portrait of Jack\\'s I had ever had to strain my eyes over! Usually they had the place of honour--say the central panel in a pale yellow or _rose Dubarry_ drawing-room, or a monumental easel placed so that it took the light through curtains of old Venetian point. The more modest place became the picture better; yet, as my eyes grew accustomed to the half-light, all the characteristic qualities came out--all the hesitations disguised as audacities, the tricks of prestidigitation by which, with such consummate skill, he managed to divert attention from the real business of the picture to some pretty irrelevance of detail. Mrs. Gisburn, presenting a neutral surface to work on--forming, as it were, so inevitably the background of her own picture--had lent herself in an unusual degree to the display of this false virtuosity. The picture was one of Jack\\'s \"strongest,\" as his admirers would have put it--it represented, on his part, a swelling of muscles, a congesting of veins, a balancing, straddling and straining, that reminded one of the circus-clown\\'s ironic efforts to lift a feather. It met, in short, at every point the demand of lovely woman to be painted \"strongly\" because she was tired of being painted \"sweetly\"--and yet not to lose an atom of the sweetness.\\n\\n\"It\\'s the last he painted, you know,\" Mrs. Gisburn said with pardonable pride. \"The last but one,\" she corrected herself--\"but the other doesn\\'t count, because he destroyed it.\"\\n\\n\"Destroyed it?\" I was about to follow up this clue when I heard a footstep and saw Jack himself on the threshold.\\n\\nAs he stood there, his hands in the pockets of his velveteen coat, the thin brown waves of hair pushed back from his white forehead, his lean sunburnt cheeks furrowed by a smile that lifted the tips of a self-confident moustache, I felt to what a degree he had the same quality as his pictures--the quality of looking cleverer than he was.\\n\\nHis wife glanced at him deprecatingly, but his eyes travelled past her to the portrait.\\n\\n\"Mr. Rickham wanted to see it,\" she began, as if excusing herself. He shrugged his shoulders, still smiling.\\n\\n\"Oh, Rickham found me out long ago,\" he said lightly; then, passing his arm through mine: \"Come and see the rest of the house.\"\\n\\nHe showed it to me with a kind of naive suburban pride: the bath-rooms, the speaking-tubes, the dress-closets, the trouser-presses--all the complex simplifications of the millionaire\\'s domestic economy. And whenever my wonder paid the expected tribute he said, throwing out his chest a little: \"Yes, I really don\\'t see how people manage to live without that.\"\\n\\nWell--it was just the end one might have foreseen for him. Only he was, through it all and in spite of it all--as he had been through, and in spite of, his pictures--so handsome, so charming, so disarming, that one longed to cry out: \"Be dissatisfied with your leisure!\" as once one had longed to say: \"Be dissatisfied with your work!\"\\n\\nBut, with the cry on my lips, my diagnosis suffered an unexpected check.\\n\\n\"This is my own lair,\" he said, leading me into a dark plain room at the end of the florid vista. It was square and brown and leathery: no \"effects\"; no bric-a-brac, none of the air of posing for reproduction in a picture weekly--above all, no least sign of ever having been used as a studio.\\n\\nThe fact brought home to me the absolute finality of Jack\\'s break with his old life.\\n\\n\"Don\\'t you ever dabble with paint any more?\" I asked, still looking about for a trace of such activity.\\n\\n\"Never,\" he said briefly.\\n\\n\"Or water-colour--or etching?\"\\n\\nHis confident eyes grew dim, and his cheeks paled a little under their handsome sunburn.\\n\\n\"Never think of it, my dear fellow--any more than if I\\'d never touched a brush.\"\\n\\nAnd his tone told me in a flash that he never thought of anything else.\\n\\nI moved away, instinctively embarrassed by my unexpected discovery; and as I turned, my eye fell on a small picture above the mantel-piece--the only object breaking the plain oak panelling of the room.\\n\\n\"Oh, by Jove!\" I said.\\n\\nIt was a sketch of a donkey--an old tired donkey, standing in the rain under a wall.\\n\\n\"By Jove--a Stroud!\" I cried.\\n\\nHe was silent; but I felt him close behind me, breathing a little quickly.\\n\\n\"What a wonder! Made with a dozen lines--but on everlasting foundations. You lucky chap, where did you get it?\"\\n\\nHe answered slowly: \"Mrs. Stroud gave it to me.\"\\n\\n\"Ah--I didn\\'t know you even knew the Strouds. He was such an inflexible hermit.\"\\n\\n\"I didn\\'t--till after. . . . She sent for me to paint him when he was dead.\"\\n\\n\"When he was dead? You?\"\\n\\nI must have let a little too much amazement escape through my surprise, for he answered with a deprecating laugh: \"Yes--she\\'s an awful simpleton, you know, Mrs. Stroud. Her only idea was to have him done by a fashionable painter--ah, poor Stroud! She thought it the surest way of proclaiming his greatness--of forcing it on a purblind public. And at the moment I was _the_ fashionable painter.\"\\n\\n\"Ah, poor Stroud--as you say. Was _that_ his history?\"\\n\\n\"That was his history. She believed in him, gloried in him--or thought she did. But she couldn\\'t bear not to have all the drawing-rooms with her. She couldn\\'t bear the fact that, on varnishing days, one could always get near enough to see his pictures. Poor woman! She\\'s just a fragment groping for other fragments. Stroud is the only whole I ever knew.\"\\n\\n\"You ever knew? But you just said--\"\\n\\nGisburn had a curious smile in his eyes.\\n\\n\"Oh, I knew him, and he knew me--only it happened after he was dead.\"\\n\\nI dropped my voice instinctively. \"When she sent for you?\"\\n\\n\"Yes--quite insensible to the irony. She wanted him vindicated--and by me!\"\\n\\nHe laughed again, and threw back his head to look up at the sketch of the donkey. \"There were days when I couldn\\'t look at that thing--couldn\\'t face it. But I forced myself to put it here; and now it\\'s cured me--cured me. That\\'s the reason why I don\\'t dabble any more, my dear Rickham; or rather Stroud himself is the reason.\"\\n\\nFor the first time my idle curiosity about my companion turned into a serious desire to understand him better.\\n\\n\"I wish you\\'d tell me how it happened,\" I said.\\n\\nHe stood looking up at the sketch, and twirling between his fingers a cigarette he had forgotten to light. Suddenly he turned toward me.\\n\\n\"I\\'d rather like to tell you--because I\\'ve always suspected you of loathing my work.\"\\n\\nI made a deprecating gesture, which he negatived with a good-humoured shrug.\\n\\n\"Oh, I didn\\'t care a straw when I believed in myself--and now it\\'s an added tie between us!\"\\n\\nHe laughed slightly, without bitterness, and pushed one of the deep arm-chairs forward. \"There: make yourself comfortable--and here are the cigars you like.\"\\n\\nHe placed them at my elbow and continued to wander up and down the room, stopping now and then beneath the picture.\\n\\n\"How it happened? I can tell you in five minutes--and it didn\\'t take much longer to happen. . . . I can remember now how surprised and pleased I was when I got Mrs. Stroud\\'s note. Of course, deep down, I had always _felt_ there was no one like him--only I had gone with the stream, echoed the usual platitudes about him, till I half got to think he was a failure, one of the kind that are left behind. By Jove, and he _was_ left behind--because he had come to stay! The rest of us had to let ourselves be swept along or go under, but he was high above the current--on everlasting foundations, as you say.\\n\\n\"Well, I went off to the house in my most egregious mood--rather moved, Lord forgive me, at the pathos of poor Stroud\\'s career of failure being crowned by the glory of my painting him! Of course I meant to do the picture for nothing--I told Mrs. Stroud so when she began to stammer something about her poverty. I remember getting off a prodigious phrase about the honour being _mine_--oh, I was princely, my dear Rickham! I was posing to myself like one of my own sitters.\\n\\n\"Then I was taken up and left alone with him. I had sent all my traps in advance, and I had only to set up the easel and get to work. He had been dead only twenty-four hours, and he died suddenly, of heart disease, so that there had been no preliminary work of destruction--his face was clear and untouched. I had met him once or twice, years before, and thought him insignificant and dingy. Now I saw that he was superb.\\n\\n\"I was glad at first, with a merely aesthetic satisfaction: glad to have my hand on such a \\'subject.\\' Then his strange life-likeness began to affect me queerly--as I blocked the head in I felt as if he were watching me do it. The sensation was followed by the thought: if he _were_ watching me, what would he say to my way of working? My strokes began to go a little wild--I felt nervous and uncertain.\\n\\n\"Once, when I looked up, I seemed to see a smile behind his close grayish beard--as if he had the secret, and were amusing himself by holding it back from me. That exasperated me still more. The secret? Why, I had a secret worth twenty of his! I dashed at the canvas furiously, and tried some of my bravura tricks. But they failed me, they crumbled. I saw that he wasn\\'t watching the showy bits--I couldn\\'t distract his attention; he just kept his eyes on the hard passages between. Those were the ones I had always shirked, or covered up with some lying paint. And how he saw through my lies!\\n\\n\"I looked up again, and caught sight of that sketch of the donkey hanging on the wall near his bed. His wife told me afterward it was the last thing he had done--just a note taken with a shaking hand, when he was down in Devonshire recovering from a previous heart attack. Just a note! But it tells his whole history. There are years of patient scornful persistence in every line. A man who had swum with the current could never have learned that mighty up-stream stroke. . . .\\n\\n\"I turned back to my work, and went on groping and muddling; then I looked at the donkey again. I saw that, when Stroud laid in the first stroke, he knew just what the end would be. He had possessed his subject, absorbed it, recreated it. When had I done that with any of my things? They hadn\\'t been born of me--I had just adopted them. . . .\\n\\n\"Hang it, Rickham, with that face watching me I couldn\\'t do another stroke. The plain truth was, I didn\\'t know where to put it--_I had never known_. Only, with my sitters and my public, a showy splash of colour covered up the fact--I just threw paint into their faces. . . . Well, paint was the one medium those dead eyes could see through--see straight to the tottering foundations underneath. Don\\'t you know how, in talking a foreign language, even fluently, one says half the time not what one wants to but what one can? Well--that was the way I painted; and as he lay there and watched me, the thing they called my \\'technique\\' collapsed like a house of cards. He didn\\'t sneer, you understand, poor Stroud--he just lay there quietly watching, and on his lips, through the gray beard, I seemed to hear the question: \\'Are you sure you know where you\\'re coming out?\\'\\n\\n\"If I could have painted that face, with that question on it, I should have done a great thing. The next greatest thing was to see that I couldn\\'t--and that grace was given me. But, oh, at that minute, Rickham, was there anything on earth I wouldn\\'t have given to have Stroud alive before me, and to hear him say: \\'It\\'s not too late--I\\'ll show you how\\'?\\n\\n\"It _was_ too late--it would have been, even if he\\'d been alive. I packed up my traps, and went down and told Mrs. Stroud. Of course I didn\\'t tell her _that_--it would have been Greek to her. I simply said I couldn\\'t paint him, that I was too moved. She rather liked the idea--she\\'s so romantic! It was that that made her give me the donkey. But she was terribly upset at not getting the portrait--she did so want him \\'done\\' by some one showy! At first I was afraid she wouldn\\'t let me off--and at my wits\\' end I suggested Grindle. Yes, it was I who started Grindle: I told Mrs. Stroud he was the \\'coming\\' man, and she told somebody else, and so it got to be true. . . . And he painted Stroud without wincing; and she hung the picture among her husband\\'s things. . . .\"\\n\\nHe flung himself down in the arm-chair near mine, laid back his head, and clasping his arms beneath it, looked up at the picture above the chimney-piece.\\n\\n\"I like to fancy that Stroud himself would have given it to me, if he\\'d been able to say what he thought that day.\"\\n\\nAnd, in answer to a question I put half-mechanically--\"Begin again?\" he flashed out. \"When the one thing that brings me anywhere near him is that I knew enough to leave off?\"\\n\\nHe stood up and laid his hand on my shoulder with a laugh. \"Only the irony of it is that I _am_ still painting--since Grindle\\'s doing it for me! The Strouds stand alone, and happen once--but there\\'s no exterminating our kind of art.\"'"
      ]
     },
     "execution_count": 4,
     "metadata": {},
     "output_type": "execute_result"
    }
   ],
   "execution_count": 4
  },
  {
   "metadata": {
    "ExecuteTime": {
     "end_time": "2024-09-15T07:24:17.344843Z",
     "start_time": "2024-09-15T07:24:17.339349Z"
    }
   },
   "cell_type": "code",
   "source": "len(raw_text)",
   "id": "eab134f32148eb20",
   "outputs": [
    {
     "data": {
      "text/plain": [
       "20479"
      ]
     },
     "execution_count": 5,
     "metadata": {},
     "output_type": "execute_result"
    }
   ],
   "execution_count": 5
  },
  {
   "metadata": {
    "ExecuteTime": {
     "end_time": "2024-09-15T07:24:17.350742Z",
     "start_time": "2024-09-15T07:24:17.345851Z"
    }
   },
   "cell_type": "code",
   "source": "preprocessed = re.split(r'([,.:;?_!\"()\\']|--|\\s)', raw_text)",
   "id": "1ce5cb4fb256f481",
   "outputs": [],
   "execution_count": 6
  },
  {
   "metadata": {
    "ExecuteTime": {
     "end_time": "2024-09-15T07:24:17.389363Z",
     "start_time": "2024-09-15T07:24:17.385261Z"
    }
   },
   "cell_type": "code",
   "source": "preprocessed = [item.strip() for item in preprocessed if item.strip()]",
   "id": "6aba39dc07db9521",
   "outputs": [],
   "execution_count": 7
  },
  {
   "metadata": {
    "ExecuteTime": {
     "end_time": "2024-09-15T07:24:17.451359Z",
     "start_time": "2024-09-15T07:24:17.444785Z"
    }
   },
   "cell_type": "code",
   "source": "print(preprocessed[:30])",
   "id": "ceb4c3d030a39db6",
   "outputs": [
    {
     "name": "stdout",
     "output_type": "stream",
     "text": [
      "['I', 'HAD', 'always', 'thought', 'Jack', 'Gisburn', 'rather', 'a', 'cheap', 'genius', '--', 'though', 'a', 'good', 'fellow', 'enough', '--', 'so', 'it', 'was', 'no', 'great', 'surprise', 'to', 'me', 'to', 'hear', 'that', ',', 'in']\n"
     ]
    }
   ],
   "execution_count": 8
  },
  {
   "metadata": {
    "ExecuteTime": {
     "end_time": "2024-09-15T07:24:17.519597Z",
     "start_time": "2024-09-15T07:24:17.514883Z"
    }
   },
   "cell_type": "code",
   "source": "len(preprocessed)",
   "id": "ca5d1d7460ba4fff",
   "outputs": [
    {
     "data": {
      "text/plain": [
       "4690"
      ]
     },
     "execution_count": 9,
     "metadata": {},
     "output_type": "execute_result"
    }
   ],
   "execution_count": 9
  },
  {
   "metadata": {
    "ExecuteTime": {
     "end_time": "2024-09-15T07:24:17.594386Z",
     "start_time": "2024-09-15T07:24:17.589948Z"
    }
   },
   "cell_type": "code",
   "source": [
    "all_words = sorted(set(preprocessed))\n",
    "vocab_size = len(all_words)\n",
    "print(vocab_size)"
   ],
   "id": "a9aad10651d6b60b",
   "outputs": [
    {
     "name": "stdout",
     "output_type": "stream",
     "text": [
      "1130\n"
     ]
    }
   ],
   "execution_count": 10
  },
  {
   "metadata": {
    "ExecuteTime": {
     "end_time": "2024-09-15T07:24:17.688631Z",
     "start_time": "2024-09-15T07:24:17.683559Z"
    }
   },
   "cell_type": "code",
   "source": "vocab = {token:integer for integer, token in enumerate(all_words)}",
   "id": "8e75fdce82155b13",
   "outputs": [],
   "execution_count": 11
  },
  {
   "metadata": {
    "ExecuteTime": {
     "end_time": "2024-09-15T07:24:17.747791Z",
     "start_time": "2024-09-15T07:24:17.743040Z"
    }
   },
   "cell_type": "code",
   "source": [
    "for i, item in enumerate(vocab):\n",
    "    print(i, item)\n",
    "    if i >= 50:\n",
    "        break"
   ],
   "id": "32a41018ec63c806",
   "outputs": [
    {
     "name": "stdout",
     "output_type": "stream",
     "text": [
      "0 !\n",
      "1 \"\n",
      "2 '\n",
      "3 (\n",
      "4 )\n",
      "5 ,\n",
      "6 --\n",
      "7 .\n",
      "8 :\n",
      "9 ;\n",
      "10 ?\n",
      "11 A\n",
      "12 Ah\n",
      "13 Among\n",
      "14 And\n",
      "15 Are\n",
      "16 Arrt\n",
      "17 As\n",
      "18 At\n",
      "19 Be\n",
      "20 Begin\n",
      "21 Burlington\n",
      "22 But\n",
      "23 By\n",
      "24 Carlo\n",
      "25 Chicago\n",
      "26 Claude\n",
      "27 Come\n",
      "28 Croft\n",
      "29 Destroyed\n",
      "30 Devonshire\n",
      "31 Don\n",
      "32 Dubarry\n",
      "33 Emperors\n",
      "34 Florence\n",
      "35 For\n",
      "36 Gallery\n",
      "37 Gideon\n",
      "38 Gisburn\n",
      "39 Gisburns\n",
      "40 Grafton\n",
      "41 Greek\n",
      "42 Grindle\n",
      "43 Grindles\n",
      "44 HAD\n",
      "45 Had\n",
      "46 Hang\n",
      "47 Has\n",
      "48 He\n",
      "49 Her\n",
      "50 Hermia\n"
     ]
    }
   ],
   "execution_count": 12
  },
  {
   "metadata": {
    "ExecuteTime": {
     "end_time": "2024-09-15T07:24:17.866956Z",
     "start_time": "2024-09-15T07:24:17.862114Z"
    }
   },
   "cell_type": "code",
   "source": [
    "class SimpleTokenizer:\n",
    "    def __init__(self, vocab):\n",
    "        self.str_to_int = vocab\n",
    "        self.int_to_str = {i:s for s, i in vocab.items()}\n",
    "    \n",
    "    def encode(self, text):\n",
    "        preprocessed = re.split(r'([,.?_!\"()\\']|--|\\s)', text)\n",
    "        preprocessed = [\n",
    "            item.strip() for item in preprocessed if item.strip()\n",
    "        ]\n",
    "        ids = [self.str_to_int[s] for s in preprocessed]\n",
    "        return ids\n",
    "    \n",
    "    def decode(self, ids):\n",
    "        text = \" \".join([self.int_to_str[id] for id in ids])\n",
    "        text = re.sub(r'\\s+([,.?!\"()\\'])', r'\\1', text)\n",
    "        return text"
   ],
   "id": "e90742116d4aa2cf",
   "outputs": [],
   "execution_count": 13
  },
  {
   "metadata": {
    "ExecuteTime": {
     "end_time": "2024-09-15T07:24:17.898615Z",
     "start_time": "2024-09-15T07:24:17.895422Z"
    }
   },
   "cell_type": "code",
   "source": [
    "simple_tokenizer = SimpleTokenizer(vocab)\n",
    "text = \"\"\"\"It's the last he painted, you know,\"\n",
    "    Mrs. Gisburn said with pardonable pride.\"\"\""
   ],
   "id": "9f778b56d448692a",
   "outputs": [],
   "execution_count": 14
  },
  {
   "metadata": {
    "ExecuteTime": {
     "end_time": "2024-09-15T07:24:17.940541Z",
     "start_time": "2024-09-15T07:24:17.937044Z"
    }
   },
   "cell_type": "code",
   "source": "ids = simple_tokenizer.encode(text)",
   "id": "7b069cb09e459d29",
   "outputs": [],
   "execution_count": 15
  },
  {
   "metadata": {
    "ExecuteTime": {
     "end_time": "2024-09-15T07:24:17.969344Z",
     "start_time": "2024-09-15T07:24:17.965949Z"
    }
   },
   "cell_type": "code",
   "source": "print(ids)",
   "id": "84bde9bf3e2dca0e",
   "outputs": [
    {
     "name": "stdout",
     "output_type": "stream",
     "text": [
      "[1, 56, 2, 850, 988, 602, 533, 746, 5, 1126, 596, 5, 1, 67, 7, 38, 851, 1108, 754, 793, 7]\n"
     ]
    }
   ],
   "execution_count": 16
  },
  {
   "metadata": {
    "ExecuteTime": {
     "end_time": "2024-09-15T07:24:18.019377Z",
     "start_time": "2024-09-15T07:24:18.015775Z"
    }
   },
   "cell_type": "code",
   "source": "simple_tokenizer.decode(ids)",
   "id": "f2d79d529c99e92",
   "outputs": [
    {
     "data": {
      "text/plain": [
       "'\" It\\' s the last he painted, you know,\" Mrs. Gisburn said with pardonable pride.'"
      ]
     },
     "execution_count": 17,
     "metadata": {},
     "output_type": "execute_result"
    }
   ],
   "execution_count": 17
  },
  {
   "metadata": {
    "ExecuteTime": {
     "end_time": "2024-09-15T07:24:18.079673Z",
     "start_time": "2024-09-15T07:24:18.052124Z"
    }
   },
   "cell_type": "code",
   "source": "import tiktoken",
   "id": "4337cd0da957d98",
   "outputs": [],
   "execution_count": 18
  },
  {
   "metadata": {
    "ExecuteTime": {
     "end_time": "2024-09-15T07:24:18.773744Z",
     "start_time": "2024-09-15T07:24:18.091170Z"
    }
   },
   "cell_type": "code",
   "source": "tokenizer = tiktoken.get_encoding(\"gpt2\")",
   "id": "7b62efc8693d0e36",
   "outputs": [],
   "execution_count": 19
  },
  {
   "metadata": {
    "ExecuteTime": {
     "end_time": "2024-09-15T07:24:18.779022Z",
     "start_time": "2024-09-15T07:24:18.775253Z"
    }
   },
   "cell_type": "code",
   "source": [
    "text = (\"Hello, do you like tea? <|endoftext|> In the sunlit terraces\"\n",
    "    \"of someunknownPlace.\")"
   ],
   "id": "13e4e1cfbf466ddc",
   "outputs": [],
   "execution_count": 20
  },
  {
   "metadata": {
    "ExecuteTime": {
     "end_time": "2024-09-15T07:24:18.783655Z",
     "start_time": "2024-09-15T07:24:18.780025Z"
    }
   },
   "cell_type": "code",
   "source": "integers = tokenizer.encode(text, allowed_special={\"<|endoftext|>\"})",
   "id": "b99879a6265e58c",
   "outputs": [],
   "execution_count": 21
  },
  {
   "metadata": {
    "ExecuteTime": {
     "end_time": "2024-09-15T07:24:18.789261Z",
     "start_time": "2024-09-15T07:24:18.785176Z"
    }
   },
   "cell_type": "code",
   "source": "tokenizer.decode(integers)",
   "id": "3f14c5161f33d5b2",
   "outputs": [
    {
     "data": {
      "text/plain": [
       "'Hello, do you like tea? <|endoftext|> In the sunlit terracesof someunknownPlace.'"
      ]
     },
     "execution_count": 22,
     "metadata": {},
     "output_type": "execute_result"
    }
   ],
   "execution_count": 22
  },
  {
   "metadata": {
    "ExecuteTime": {
     "end_time": "2024-09-15T07:24:18.793880Z",
     "start_time": "2024-09-15T07:24:18.790265Z"
    }
   },
   "cell_type": "code",
   "source": "tokenizer.encode(\"Akwirw ier\")",
   "id": "b602656a55d26fb2",
   "outputs": [
    {
     "data": {
      "text/plain": [
       "[33901, 86, 343, 86, 220, 959]"
      ]
     },
     "execution_count": 23,
     "metadata": {},
     "output_type": "execute_result"
    }
   ],
   "execution_count": 23
  },
  {
   "metadata": {
    "ExecuteTime": {
     "end_time": "2024-09-15T07:24:18.798396Z",
     "start_time": "2024-09-15T07:24:18.794880Z"
    }
   },
   "cell_type": "code",
   "source": "tokenizer.decode([33901, 86, 343, 86, 220, 959])",
   "id": "a931b59c25624605",
   "outputs": [
    {
     "data": {
      "text/plain": [
       "'Akwirw ier'"
      ]
     },
     "execution_count": 24,
     "metadata": {},
     "output_type": "execute_result"
    }
   ],
   "execution_count": 24
  },
  {
   "metadata": {
    "ExecuteTime": {
     "end_time": "2024-09-15T07:24:18.802515Z",
     "start_time": "2024-09-15T07:24:18.799399Z"
    }
   },
   "cell_type": "code",
   "source": "tokenizer.decode(tokenizer.encode(\"Akwirw ier\"))",
   "id": "a6fd9ec6f4904444",
   "outputs": [
    {
     "data": {
      "text/plain": [
       "'Akwirw ier'"
      ]
     },
     "execution_count": 25,
     "metadata": {},
     "output_type": "execute_result"
    }
   ],
   "execution_count": 25
  },
  {
   "metadata": {
    "ExecuteTime": {
     "end_time": "2024-09-15T07:24:18.809044Z",
     "start_time": "2024-09-15T07:24:18.803517Z"
    }
   },
   "cell_type": "code",
   "source": "encoded_text = tokenizer.encode(raw_text)",
   "id": "bd90b92e8cea9dde",
   "outputs": [],
   "execution_count": 26
  },
  {
   "metadata": {
    "ExecuteTime": {
     "end_time": "2024-09-15T07:24:18.812335Z",
     "start_time": "2024-09-15T07:24:18.809044Z"
    }
   },
   "cell_type": "code",
   "source": "print(len(encoded_text))",
   "id": "a649f2690bc9c03d",
   "outputs": [
    {
     "name": "stdout",
     "output_type": "stream",
     "text": [
      "5145\n"
     ]
    }
   ],
   "execution_count": 27
  },
  {
   "metadata": {
    "ExecuteTime": {
     "end_time": "2024-09-15T07:24:18.816611Z",
     "start_time": "2024-09-15T07:24:18.813337Z"
    }
   },
   "cell_type": "code",
   "source": "encoded_sample = encoded_text[50:]",
   "id": "e42beb11439b695a",
   "outputs": [],
   "execution_count": 28
  },
  {
   "metadata": {
    "ExecuteTime": {
     "end_time": "2024-09-15T07:24:18.819957Z",
     "start_time": "2024-09-15T07:24:18.817613Z"
    }
   },
   "cell_type": "code",
   "source": "context_size = 4",
   "id": "112047eb4d944fd",
   "outputs": [],
   "execution_count": 29
  },
  {
   "metadata": {
    "ExecuteTime": {
     "end_time": "2024-09-15T07:24:18.823625Z",
     "start_time": "2024-09-15T07:24:18.820958Z"
    }
   },
   "cell_type": "code",
   "source": [
    "x = encoded_sample[:context_size]\n",
    "y = encoded_sample[1:context_size+1]"
   ],
   "id": "3417656424c53ec",
   "outputs": [],
   "execution_count": 30
  },
  {
   "metadata": {
    "ExecuteTime": {
     "end_time": "2024-09-15T07:24:18.827016Z",
     "start_time": "2024-09-15T07:24:18.823625Z"
    }
   },
   "cell_type": "code",
   "source": [
    "print(f\"x:  {x}\")\n",
    "print(f\"y:       {y}\")"
   ],
   "id": "86d428f5ed69554b",
   "outputs": [
    {
     "name": "stdout",
     "output_type": "stream",
     "text": [
      "x:  [290, 4920, 2241, 287]\n",
      "y:       [4920, 2241, 287, 257]\n"
     ]
    }
   ],
   "execution_count": 31
  },
  {
   "metadata": {
    "ExecuteTime": {
     "end_time": "2024-09-15T07:24:18.830951Z",
     "start_time": "2024-09-15T07:24:18.827016Z"
    }
   },
   "cell_type": "code",
   "source": [
    "for i in range(1, context_size+1):\n",
    "    context=  encoded_sample[:i]\n",
    "    desired= encoded_sample[i]\n",
    "    print(f\"{tokenizer.decode(context)} ----> {tokenizer.decode([desired])}\")"
   ],
   "id": "37cb628a5c6ad522",
   "outputs": [
    {
     "name": "stdout",
     "output_type": "stream",
     "text": [
      " and ---->  established\n",
      " and established ---->  himself\n",
      " and established himself ---->  in\n",
      " and established himself in ---->  a\n"
     ]
    }
   ],
   "execution_count": 32
  },
  {
   "metadata": {
    "ExecuteTime": {
     "end_time": "2024-11-24T09:51:05.772093Z",
     "start_time": "2024-11-24T09:51:01.511210Z"
    }
   },
   "cell_type": "code",
   "source": "import torch",
   "id": "344cfc63ecd80b9e",
   "outputs": [],
   "execution_count": 2
  },
  {
   "metadata": {
    "ExecuteTime": {
     "end_time": "2024-09-15T07:30:11.633591Z",
     "start_time": "2024-09-15T07:30:11.630236Z"
    }
   },
   "cell_type": "code",
   "source": [
    "vocab_size2 = 50257\n",
    "output_dim = 256"
   ],
   "id": "83ea254a0a375d9b",
   "outputs": [],
   "execution_count": 49
  },
  {
   "metadata": {
    "ExecuteTime": {
     "end_time": "2024-09-15T07:30:29.547182Z",
     "start_time": "2024-09-15T07:30:29.468245Z"
    }
   },
   "cell_type": "code",
   "source": [
    "torch.manual_seed(123)\n",
    "embedding_layer = torch.nn.Embedding(vocab_size2, output_dim)"
   ],
   "id": "aa835300eeb71206",
   "outputs": [],
   "execution_count": 50
  },
  {
   "metadata": {
    "ExecuteTime": {
     "end_time": "2024-09-15T07:34:53.503855Z",
     "start_time": "2024-09-15T07:34:53.497803Z"
    }
   },
   "cell_type": "code",
   "source": [
    "from torch.utils.data import Dataset, DataLoader\n",
    "\n",
    "\n",
    "class GPTDatasetV1(Dataset):\n",
    "    def __init__(self, txt, tokenizer, max_length, stride):\n",
    "        self.input_ids = []\n",
    "        self.target_ids = []\n",
    "\n",
    "        # Tokenize the entire text\n",
    "        token_ids = tokenizer.encode(txt, allowed_special={\"<|endoftext|>\"})\n",
    "\n",
    "        # Use a sliding window to chunk the book into overlapping sequences of max_length\n",
    "        for i in range(0, len(token_ids) - max_length, stride):\n",
    "            input_chunk = token_ids[i:i + max_length]\n",
    "            target_chunk = token_ids[i + 1: i + max_length + 1]\n",
    "            self.input_ids.append(torch.tensor(input_chunk))\n",
    "            self.target_ids.append(torch.tensor(target_chunk))\n",
    "\n",
    "    def __len__(self):\n",
    "        return len(self.input_ids)\n",
    "\n",
    "    def __getitem__(self, idx):\n",
    "        return self.input_ids[idx], self.target_ids[idx]\n",
    "\n",
    "\n",
    "def create_dataloader_v1(txt, batch_size=4, max_length=256,\n",
    "                         stride=128, shuffle=True, drop_last=True,\n",
    "                         num_workers=0):\n",
    "    # Initialize the tokenizer\n",
    "    tokenizer = tiktoken.get_encoding(\"gpt2\")\n",
    "\n",
    "    # Create dataset\n",
    "    dataset = GPTDatasetV1(txt, tokenizer, max_length, stride)\n",
    "\n",
    "    # Create dataloader\n",
    "    dataloader = DataLoader(\n",
    "        dataset,\n",
    "        batch_size=batch_size,\n",
    "        shuffle=shuffle,\n",
    "        drop_last=drop_last,\n",
    "        num_workers=num_workers\n",
    "    )\n",
    "\n",
    "    return dataloader"
   ],
   "id": "e3c8866dd401d6ef",
   "outputs": [],
   "execution_count": 60
  },
  {
   "metadata": {
    "ExecuteTime": {
     "end_time": "2024-09-15T07:36:04.810596Z",
     "start_time": "2024-09-15T07:36:04.786545Z"
    }
   },
   "cell_type": "code",
   "source": [
    "max_length = 4\n",
    "dataloader = create_dataloader_v1(\n",
    "    raw_text, batch_size=8, max_length=max_length,\n",
    "    stride=max_length, shuffle=False\n",
    ")\n",
    "data_iter = iter(dataloader)\n",
    "inputs,targets = next(data_iter)\n",
    "print(\"Token IDs: \\n\", inputs)\n",
    "print(\"Inputs Shape: \\n\", inputs.shape)"
   ],
   "id": "27490920e001c1bb",
   "outputs": [
    {
     "name": "stdout",
     "output_type": "stream",
     "text": [
      "Token IDs: \n",
      " tensor([[   40,   367,  2885,  1464],\n",
      "        [ 1807,  3619,   402,   271],\n",
      "        [10899,  2138,   257,  7026],\n",
      "        [15632,   438,  2016,   257],\n",
      "        [  922,  5891,  1576,   438],\n",
      "        [  568,   340,   373,   645],\n",
      "        [ 1049,  5975,   284,   502],\n",
      "        [  284,  3285,   326,    11]])\n",
      "Inputs Shape: \n",
      " torch.Size([8, 4])\n"
     ]
    }
   ],
   "execution_count": 63
  },
  {
   "metadata": {
    "ExecuteTime": {
     "end_time": "2024-09-15T07:41:23.425767Z",
     "start_time": "2024-09-15T07:41:23.422632Z"
    }
   },
   "cell_type": "code",
   "source": "token_embeddings = embedding_layer(inputs)  ",
   "id": "288bdb7ce362f3a8",
   "outputs": [],
   "execution_count": 66
  },
  {
   "metadata": {
    "ExecuteTime": {
     "end_time": "2024-09-15T07:47:11.048329Z",
     "start_time": "2024-09-15T07:47:11.043304Z"
    }
   },
   "cell_type": "code",
   "source": "token_embeddings[1]",
   "id": "9ca379cdb77943b5",
   "outputs": [
    {
     "data": {
      "text/plain": [
       "tensor([[-0.1082, -1.2723, -1.2217,  ..., -0.9199,  2.0073, -1.4138],\n",
       "        [-0.2427,  0.9145,  1.0885,  ..., -0.8651,  3.5269,  0.7225],\n",
       "        [-0.5434,  1.6203,  1.2222,  ...,  0.6814, -1.4032,  0.1492],\n",
       "        [-0.3504, -0.9325, -1.2900,  ..., -1.4980,  0.1400,  0.3730]],\n",
       "       grad_fn=<SelectBackward0>)"
      ]
     },
     "execution_count": 93,
     "metadata": {},
     "output_type": "execute_result"
    }
   ],
   "execution_count": 93
  },
  {
   "metadata": {
    "ExecuteTime": {
     "end_time": "2024-09-15T08:09:34.121054Z",
     "start_time": "2024-09-15T08:09:34.114016Z"
    }
   },
   "cell_type": "code",
   "source": "token_embeddings[1][1]",
   "id": "7b6e91570f7b2582",
   "outputs": [
    {
     "data": {
      "text/plain": [
       "tensor([-0.2427,  0.9145,  1.0885, -0.4509,  0.1388,  0.4346, -0.2504,  0.6773,\n",
       "        -1.3881,  0.6387,  1.4926, -0.3121,  0.5354,  0.1821, -0.7293, -0.1554,\n",
       "         2.7412,  0.2703,  1.4398, -0.0604, -0.1633,  0.0075, -0.1972, -1.4763,\n",
       "         0.9427,  0.9772, -1.3763, -0.3745,  1.2380,  0.3054,  0.1337, -1.1261,\n",
       "        -0.7150,  0.1054, -1.8622, -0.1914, -0.3812, -0.5149,  0.1585, -0.2855,\n",
       "        -1.3498, -1.0585,  1.1224, -1.2411, -1.8682, -0.3310, -1.6631, -1.0606,\n",
       "         0.1304, -1.7107, -1.7785, -0.2362,  0.4212, -0.1894, -2.1316,  1.6154,\n",
       "        -0.8644, -0.2564,  0.8379, -0.1591,  0.4706,  1.6730,  0.9082, -1.1894,\n",
       "        -0.1265, -0.4909,  0.8210, -0.3116, -0.8850, -0.9793,  1.1803, -0.9689,\n",
       "        -2.2596,  1.0069,  0.2675, -1.0806, -0.9930,  0.8564,  0.5325, -1.5294,\n",
       "        -2.6811,  0.5051,  0.4283, -0.6133,  0.3168, -0.4942,  2.3976, -0.1153,\n",
       "        -0.8231, -0.2001, -0.3997,  1.0749, -0.2622,  1.2662, -0.0810,  0.4281,\n",
       "        -1.3073, -0.3272, -0.5569,  0.3679,  0.4945, -1.0780,  1.8959,  2.1794,\n",
       "         0.7400, -1.5829, -1.1895, -1.1595,  0.5738,  0.4092, -1.3037, -0.1686,\n",
       "        -0.8989, -0.9725,  0.2068,  0.5734,  0.2707,  0.6403, -0.7263, -2.1220,\n",
       "         1.1088, -0.6677,  0.1401, -0.7364, -0.2214, -1.2667, -1.0960, -1.5436,\n",
       "         0.6876, -0.5317, -0.2667,  0.9679,  0.3950,  1.1845,  0.8544,  1.3891,\n",
       "         0.0166, -0.2322, -1.8527,  1.5813, -1.3767,  0.1611, -0.8390,  0.6270,\n",
       "        -0.6363, -0.5315, -1.3111,  0.8204, -1.1765, -0.3334,  0.0180,  0.3086,\n",
       "         1.4607, -0.3216, -0.9576, -0.5953, -1.2509, -0.5796, -0.3833, -0.4956,\n",
       "        -0.2553, -0.6069,  0.7006, -1.1219, -0.1823, -0.0872, -1.5572,  1.5604,\n",
       "         0.0534,  1.9457,  0.8704,  0.3841, -0.6876, -1.9368, -0.1859,  0.2132,\n",
       "         0.9652, -0.4469,  0.5535,  0.2328, -0.0470,  1.0290, -1.1606, -2.7414,\n",
       "        -0.8249, -0.8152,  1.1343, -0.1018,  0.1532, -0.1553, -0.0657, -0.3623,\n",
       "        -1.3525, -0.0833, -1.1712, -2.2204, -0.8158, -0.9656, -0.7835,  0.5308,\n",
       "         0.3907,  0.6717,  0.8247, -0.3872, -0.9881,  0.2128, -2.0881,  1.1591,\n",
       "         0.2660,  1.2788,  0.5561, -2.4273,  0.3654,  1.3775, -2.0195,  0.3888,\n",
       "         0.3009,  0.6058,  0.8347,  0.3049, -0.4678, -0.7980, -0.9444, -0.4121,\n",
       "         0.0796, -0.3483, -0.9751,  1.5676, -0.7931, -0.9729,  0.8404,  1.4490,\n",
       "         0.3694, -2.0638,  0.0075, -0.6106,  0.0504, -0.0387, -1.0443, -0.0347,\n",
       "        -0.5104,  1.7310, -1.1130, -1.4572, -0.1534, -0.2298,  2.0099, -2.7344,\n",
       "        -0.5829,  1.2359, -0.2496, -0.5113, -1.2842, -0.8651,  3.5269,  0.7225],\n",
       "       grad_fn=<SelectBackward0>)"
      ]
     },
     "execution_count": 109,
     "metadata": {},
     "output_type": "execute_result"
    }
   ],
   "execution_count": 109
  },
  {
   "metadata": {
    "ExecuteTime": {
     "end_time": "2024-11-24T09:51:11.175158Z",
     "start_time": "2024-11-24T09:51:11.168896Z"
    }
   },
   "cell_type": "code",
   "source": "attn_score_2 = torch.dot(torch.tensor([0.43, 0.15, 0.89]), torch.tensor([0.55,0.87,0.66]))",
   "id": "65412d018dfd93e6",
   "outputs": [],
   "execution_count": 3
  },
  {
   "metadata": {
    "ExecuteTime": {
     "end_time": "2024-11-24T09:51:15.945908Z",
     "start_time": "2024-11-24T09:51:15.935029Z"
    }
   },
   "cell_type": "code",
   "source": "torch.softmax(attn_score_2, dim=0)",
   "id": "267c64772c513476",
   "outputs": [
    {
     "data": {
      "text/plain": [
       "tensor(1.)"
      ]
     },
     "execution_count": 4,
     "metadata": {},
     "output_type": "execute_result"
    }
   ],
   "execution_count": 4
  },
  {
   "metadata": {
    "ExecuteTime": {
     "end_time": "2024-11-24T09:51:16.670061Z",
     "start_time": "2024-11-24T09:51:16.665055Z"
    }
   },
   "cell_type": "code",
   "source": "attention_weights = attn_score_2 / attn_score_2.sum()",
   "id": "fbb87083d1b7ce90",
   "outputs": [],
   "execution_count": 5
  },
  {
   "metadata": {
    "ExecuteTime": {
     "end_time": "2024-11-24T09:51:21.292062Z",
     "start_time": "2024-11-24T09:51:21.287069Z"
    }
   },
   "cell_type": "code",
   "source": "attention_weights",
   "id": "e9f284fa732931bc",
   "outputs": [
    {
     "data": {
      "text/plain": [
       "tensor(1.)"
      ]
     },
     "execution_count": 6,
     "metadata": {},
     "output_type": "execute_result"
    }
   ],
   "execution_count": 6
  },
  {
   "metadata": {
    "ExecuteTime": {
     "end_time": "2024-11-24T09:51:22.550118Z",
     "start_time": "2024-11-24T09:51:22.543896Z"
    }
   },
   "cell_type": "code",
   "source": "attn_score_2",
   "id": "8091c73e6140e30a",
   "outputs": [
    {
     "data": {
      "text/plain": [
       "tensor(0.9544)"
      ]
     },
     "execution_count": 7,
     "metadata": {},
     "output_type": "execute_result"
    }
   ],
   "execution_count": 7
  },
  {
   "metadata": {},
   "cell_type": "code",
   "outputs": [],
   "execution_count": null,
   "source": "",
   "id": "821be97a842088d8"
  }
 ],
 "metadata": {
  "kernelspec": {
   "display_name": "Python 3",
   "language": "python",
   "name": "python3"
  },
  "language_info": {
   "codemirror_mode": {
    "name": "ipython",
    "version": 2
   },
   "file_extension": ".py",
   "mimetype": "text/x-python",
   "name": "python",
   "nbconvert_exporter": "python",
   "pygments_lexer": "ipython2",
   "version": "2.7.6"
  }
 },
 "nbformat": 4,
 "nbformat_minor": 5
}
